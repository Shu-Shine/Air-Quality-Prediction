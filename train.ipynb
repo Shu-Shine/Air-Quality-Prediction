{
 "cells": [
  {
   "cell_type": "code",
   "execution_count": null,
   "id": "6e18f8751de13fbc",
   "metadata": {},
   "outputs": [],
   "source": [
    "import pandas as pd\n",
    "import numpy as np\n",
    "from sklearn.ensemble import RandomForestClassifier\n",
    "from sklearn.ensemble import RandomForestRegressor\n",
    "from sklearn.preprocessing import LabelEncoder\n",
    "from sklearn.metrics import confusion_matrix\n",
    "from sklearn.metrics import classification_report\n",
    "import matplotlib.pyplot as plt\n",
    "import matplotlib\n",
    "from sklearn.model_selection import train_test_split\n",
    "from pyecharts import Bar\n",
    "from sklearn.metrics import mean_squared_error,explained_variance_score,mean_absolute_error,r2_score"
   ]
  },
  {
   "cell_type": "code",
   "execution_count": null,
   "id": "c15b76bb",
   "metadata": {},
   "outputs": [],
   "source": [
    "data=pd.read_csv('./air.csv',index_col=0,encoding='gb2312')\n",
    "\n",
    "# Calculate the split index\n",
    "split_index = int(len(data) * 0.8)\n",
    "\n",
    "# Split the data into training and testing sets\n",
    "train_data = data[:split_index] \n",
    "test_data = data[split_index:]  "
   ]
  },
  {
   "cell_type": "code",
   "execution_count": null,
   "id": "d7e47f3b",
   "metadata": {},
   "outputs": [],
   "source": [
    "X_train=data_train.iloc[:,0:-2]\n",
    "X_test=data_test.iloc[:,0:-2]\n",
    "feature=data_train.iloc[:,0:-2].columns\n",
    "# print (feature)\n",
    "y_train=data_train.iloc[:,-2]\n",
    "y_test=data_test.iloc[:,-2]\n"
   ]
  },
  {
   "cell_type": "code",
   "execution_count": null,
   "id": "f9c43df7",
   "metadata": {},
   "outputs": [],
   "source": [
    "##参数选择\n",
    "from sklearn.model_selection import RandomizedSearchCV\n",
    "criterion=['mse','mae']\n",
    "n_estimators = [int(x) for x in np.linspace(start = 200, stop = 2000, num = 10)]\n",
    "max_features = ['auto', 'sqrt']\n",
    "max_depth = [int(x) for x in np.linspace(10, 100, num = 10)]\n",
    "max_depth.append(None)\n",
    "min_samples_split = [2, 5, 10]\n",
    "min_samples_leaf = [1, 2, 4]\n",
    "bootstrap = [True, False]\n",
    "random_grid = {'criterion':criterion,\n",
    "                'n_estimators': n_estimators,\n",
    "               'max_features': max_features,\n",
    "               'max_depth': max_depth,\n",
    "               'min_samples_split': min_samples_split,\n",
    "               'min_samples_leaf': min_samples_leaf,\n",
    "               'bootstrap': bootstrap}\n",
    "#构建模型\n",
    "clf= RandomForestRegressor()\n",
    "clf_random = RandomizedSearchCV(estimator=clf, param_distributions=random_grid,\n",
    "                              n_iter = 10,  \n",
    "                              cv = 3, verbose=2, random_state=42, n_jobs=1)\n",
    "#回归\n",
    "clf_random.fit(X_train, y_train)"
   ]
  },
  {
   "cell_type": "code",
   "execution_count": null,
   "id": "df4fa450",
   "metadata": {},
   "outputs": [],
   "source": [
    "\n",
    "\n",
    "rf=RandomForestRegressor(criterion='mse',bootstrap=False,max_features='sqrt', max_depth=20,min_samples_split=10, n_estimators=1200,min_samples_leaf=2)\n",
    "\n",
    "rf.fit(X_train, y_train) \n",
    "y_train_pred=rf.predict(X_train)\n",
    "y_test_pred=rf.predict(X_test)\n",
    "\n",
    "#指标重要性\n",
    "print (rf.feature_importances_)\n",
    "bar=Bar()\n",
    "bar.add('指标重要性',feature, rf.feature_importances_.round(2),is_label_show=True,label_text_color='#000')\n",
    "bar.render('指标重要性.html')\n",
    "\n",
    "\n",
    "print (\"决策树模型评估--训练集：\")\n",
    "print ('训练r^2:',rf.score(X_train,y_train))\n",
    "print ('均方差',mean_squared_error(y_train,y_train_pred))\n",
    "print ('绝对差',mean_absolute_error(y_train,y_train_pred))\n",
    "print ('解释度',explained_variance_score(y_train,y_train_pred))\n",
    "\n",
    "print (\"决策树模型评估--验证集：\")\n",
    "print ('验证r^2:',rf.score(X_test,y_test))\n",
    "print ('均方差',mean_squared_error(y_test,y_test_pred))\n",
    "print ('绝对差',mean_absolute_error(y_test,y_test_pred))\n",
    "print ('解释度',explained_variance_score(y_test,y_test_pred))"
   ]
  },
  {
   "cell_type": "code",
   "execution_count": null,
   "id": "7f15685c",
   "metadata": {},
   "outputs": [],
   "source": [
    "'''预测'''\n",
    "data_pred=pd.read_csv('./air.csv',index_col=0,encoding='gb2312')\n",
    "index=data_pred.index\n",
    "y_pred=rf.predict(data_pred.values)\n",
    "\n",
    "#将预测结果保存到文件中\n",
    "result_reg=pd.DataFrame(index)\n",
    "result_reg['AQI']=y_pred\n",
    "result_reg.to_csv('./result_reg_city.txt',encoding='gb2312')\n",
    "print (result_reg)"
   ]
  }
 ],
 "metadata": {
  "kernelspec": {
   "display_name": "base",
   "language": "python",
   "name": "python3"
  },
  "language_info": {
   "codemirror_mode": {
    "name": "ipython",
    "version": 3
   },
   "file_extension": ".py",
   "mimetype": "text/x-python",
   "name": "python",
   "nbconvert_exporter": "python",
   "pygments_lexer": "ipython3",
   "version": "3.8.8"
  }
 },
 "nbformat": 4,
 "nbformat_minor": 5
}
